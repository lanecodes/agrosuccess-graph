{
 "cells": [
  {
   "cell_type": "markdown",
   "metadata": {},
   "source": [
    "# Extract succession pathway data published by Millington et al. 2009\n",
    "\n",
    "In their paper, [Millington, Wainwright and Perry (2009)](https://doi.org/10.1016/j.envsoft.2009.03.013) describe a landscape fire-succession model which represents the variaous ways in which landscape vegetation can evolve under different environmental conditions. An important component of this model is a representation of the different pathways along which a particular patch of the landscape might evolve, contingent on other environmental variables appearing endogenously within the model. For example, during the course of secondary succession following a wildfire, a patch of shrubland might (all else being equal) transform into a deciduous forest under hydric (wet) conditions, or a pine forest under xeric (dry) conditions. Alternatively succession pathways might be disturbance-mediated: if fires are infrequent, incumbent resprouting oak trees may regenerate into an oak forest once more, whereas frequent fire may favour pine species whose seeds lie dormant in the soil awaiting stand-clearing fires to reduce light competition.\n",
    "\n",
    "These succession pathways (among many other possibilities) are represented in Fig. 2 of the referenced [paper](https://doi.org/10.1016/j.envsoft.2009.03.013). They are also provided as a table in the paper's supplementary materials in a file called `1-s2.0-S1364815209000863-mmc1.doc`. In this short notebook we perform some rudimentary data cleansing to extract this data and record it in a more easily machine-readable `.csv` format."
   ]
  },
  {
   "cell_type": "code",
   "execution_count": 1,
   "metadata": {},
   "outputs": [],
   "source": [
    "import pandas as pd"
   ]
  },
  {
   "cell_type": "markdown",
   "metadata": {},
   "source": [
    "Using Libreoffice (in headless mode), convert the supplementary materials document into a `.html` document which can be easily consumed by standard data analysis tools."
   ]
  },
  {
   "cell_type": "code",
   "execution_count": null,
   "metadata": {},
   "outputs": [],
   "source": [
    "millington_table_src = os.path.join\"1-s2.0-S1364815209000863-mmc1.doc\""
   ]
  },
  {
   "cell_type": "code",
   "execution_count": 22,
   "metadata": {},
   "outputs": [
    {
     "name": "stdout",
     "output_type": "stream",
     "text": [
      "1-s2.0-S1364815209000863-mmc1.doc\n",
      "calculating-disturbance-frequencies.pdf\n",
      "development-notes.org~\n",
      "extract_Millington_succession_pathway.bup.html\n",
      "extract_Millington_succession_pathway.html\n",
      "extract_Millington_succession_pathway.ipynb\n",
      "landcover-properties.csv\n",
      "make_cypher.py\n",
      "make_cypher.py~\n",
      "make_cypher.pyc\n",
      "Millington_succession.csv\n",
      "Millington-Thesis-Transition-Table.pdf\n",
      "model-specification.odp\n",
      "test\n",
      "#test_make_cypher.py#\n",
      "test_make_cypher.py\n",
      "test_make_cypher.py~\n",
      "test_make_cypher.pyc\n",
      "transition_table_to_cypher.py\n",
      "transition_table_to_cypher.py~\n"
     ]
    }
   ],
   "source": [
    "%%bash\n",
    "soffice --convert-to \"html:XHTML Writer File:UTF8\" 1-s2.0-S1364815209000863-mmc1.doc"
   ]
  },
  {
   "cell_type": "markdown",
   "metadata": {},
   "source": [
    "Read in output `.html` file as a string"
   ]
  },
  {
   "cell_type": "code",
   "execution_count": 25,
   "metadata": {},
   "outputs": [
    {
     "ename": "IOError",
     "evalue": "[Errno 2] No such file or directory: '1-s2.0-S1364815209000863-mmc1.html'",
     "output_type": "error",
     "traceback": [
      "\u001b[0;31m---------------------------------------------------------------------------\u001b[0m",
      "\u001b[0;31mIOError\u001b[0m                                   Traceback (most recent call last)",
      "\u001b[0;32m<ipython-input-25-2a3890de2fab>\u001b[0m in \u001b[0;36m<module>\u001b[0;34m()\u001b[0m\n\u001b[0;32m----> 1\u001b[0;31m \u001b[0;32mwith\u001b[0m \u001b[0mopen\u001b[0m\u001b[0;34m(\u001b[0m\u001b[0;34m'1-s2.0-S1364815209000863-mmc1.html'\u001b[0m\u001b[0;34m,\u001b[0m \u001b[0;34m'r'\u001b[0m\u001b[0;34m)\u001b[0m \u001b[0;32mas\u001b[0m \u001b[0mf\u001b[0m\u001b[0;34m:\u001b[0m\u001b[0;34m\u001b[0m\u001b[0m\n\u001b[0m\u001b[1;32m      2\u001b[0m     \u001b[0mhtml_string\u001b[0m \u001b[0;34m=\u001b[0m \u001b[0mf\u001b[0m\u001b[0;34m.\u001b[0m\u001b[0mread\u001b[0m\u001b[0;34m(\u001b[0m\u001b[0;34m)\u001b[0m\u001b[0;34m\u001b[0m\u001b[0m\n\u001b[1;32m      3\u001b[0m \u001b[0;34m\u001b[0m\u001b[0m\n\u001b[1;32m      4\u001b[0m \u001b[0;32mprint\u001b[0m \u001b[0mhtml_string\u001b[0m\u001b[0;34m[\u001b[0m\u001b[0;34m:\u001b[0m\u001b[0;36m500\u001b[0m\u001b[0;34m]\u001b[0m\u001b[0;34m\u001b[0m\u001b[0m\n\u001b[1;32m      5\u001b[0m \u001b[0;32mprint\u001b[0m \u001b[0;34m'\\n...\\n'\u001b[0m\u001b[0;34m\u001b[0m\u001b[0m\n",
      "\u001b[0;31mIOError\u001b[0m: [Errno 2] No such file or directory: '1-s2.0-S1364815209000863-mmc1.html'"
     ]
    }
   ],
   "source": [
    "with open('1-s2.0-S1364815209000863-mmc1.html', 'r') as f:\n",
    "    html_string = f.read()\n",
    "\n",
    "print html_string[:500]\n",
    "print '\\n...\\n'\n",
    "print html_string[-500:]"
   ]
  },
  {
   "cell_type": "markdown",
   "metadata": {},
   "source": [
    "While not immediately obvious from the above sample, the html stored in `html_string` contains a `<table>` element holding our data. The `pandas` module contains a `read_html` method which will extract this data as a list of dataframes."
   ]
  },
  {
   "cell_type": "code",
   "execution_count": 7,
   "metadata": {},
   "outputs": [],
   "source": [
    "df_list = pd.read_html(html_string)"
   ]
  },
  {
   "cell_type": "code",
   "execution_count": 8,
   "metadata": {},
   "outputs": [
    {
     "name": "stdout",
     "output_type": "stream",
     "text": [
      "           0           1       2     3    4          5      6   7   8\n",
      "0  Start (S)  Succession  Aspect  Pine  Oak  Deciduous  Water  D  T\n",
      "1          1           1       0     1    0          0      0   1   0\n",
      "2          1           1       0     1    0          0      1   1   0\n",
      "3          1           1       0     1    0          0      2   1   0\n",
      "4          1           1       1     1    0          0      0   1   0\n",
      "\n",
      "...\n",
      "\n",
      "      0  1  2  3  4  5  6  7  8\n",
      "747  11  0  1  0  1  1  2  5  2\n",
      "748  11  0  1  1  0  0  2  5  2\n",
      "749  11  0  1  1  0  1  2  5  2\n",
      "750  11  0  1  1  1  0  2  5  2\n",
      "751  11  0  1  1  1  1  2  5  2\n"
     ]
    }
   ],
   "source": [
    "print df_list[0].head()\n",
    "print '\\n...\\n'\n",
    "print df_list[0].tail()"
   ]
  },
  {
   "cell_type": "markdown",
   "metadata": {},
   "source": [
    "This table encodes all the information which is needed by a simulation model to determine the succession trajectory of a patch of landscape under a particular set of conditions (see [Millington, Wainwright and Perry (2009)](https://doi.org/10.1016/j.envsoft.2009.03.013) for details). Briefly:\n",
    "\n",
    "- **Start**: The code of the land cover class (given in the paper) which a patch of vegetation is in at present. Includes e.g. Pine, Oak, Shrubland, or burnt.\n",
    "- **Succession**: Whether the cell is undergoing secondary succession (1) or regeneration succession (0). This is determined by whether or not there were mature resprouters present in  the cell prior to disturbance. If mature resprouters were present the cell undergoes regeneration succession, otherwise they undergo secondary succession.\n",
    "- **Aspect**: The (relative) abundance of light available to a cell. This relevant because of a known tendency for pine saplings to struggle in low light conditions.\n",
    "- **Pine, Oak, and Deciduous**: columns specify whether Pine, Oak and/or Deciduous seeds are present in a cell.\n",
    "- **Water**: The (relative) abundance of water available in the cell.\n",
    "- $\\Delta D$: The *direction of transition*; i.e. the land-cover class which the cell is on track to transition into.\n",
    "- $\\Delta T$: The *time required to complete transition*; i.e. given a particular transition trajectory, the length of time the cell will sit in its current state before transitioning."
   ]
  },
  {
   "cell_type": "markdown",
   "metadata": {},
   "source": [
    "As a final data cleansing step, we rename the columns so data can be stored in ASCII format, and write to a csv file named `Millington_succession.csv`"
   ]
  },
  {
   "cell_type": "code",
   "execution_count": 10,
   "metadata": {},
   "outputs": [
    {
     "data": {
      "text/html": [
       "<div>\n",
       "<style scoped>\n",
       "    .dataframe tbody tr th:only-of-type {\n",
       "        vertical-align: middle;\n",
       "    }\n",
       "\n",
       "    .dataframe tbody tr th {\n",
       "        vertical-align: top;\n",
       "    }\n",
       "\n",
       "    .dataframe thead th {\n",
       "        text-align: right;\n",
       "    }\n",
       "</style>\n",
       "<table border=\"1\" class=\"dataframe\">\n",
       "  <thead>\n",
       "    <tr style=\"text-align: right;\">\n",
       "      <th></th>\n",
       "      <th>start</th>\n",
       "      <th>succession</th>\n",
       "      <th>aspect</th>\n",
       "      <th>pine</th>\n",
       "      <th>oak</th>\n",
       "      <th>deciduous</th>\n",
       "      <th>water</th>\n",
       "      <th>delta_D</th>\n",
       "      <th>delta_T</th>\n",
       "    </tr>\n",
       "  </thead>\n",
       "  <tbody>\n",
       "    <tr>\n",
       "      <th>0</th>\n",
       "      <td>Start (S)</td>\n",
       "      <td>Succession</td>\n",
       "      <td>Aspect</td>\n",
       "      <td>Pine</td>\n",
       "      <td>Oak</td>\n",
       "      <td>Deciduous</td>\n",
       "      <td>Water</td>\n",
       "      <td>D</td>\n",
       "      <td>T</td>\n",
       "    </tr>\n",
       "    <tr>\n",
       "      <th>1</th>\n",
       "      <td>1</td>\n",
       "      <td>1</td>\n",
       "      <td>0</td>\n",
       "      <td>1</td>\n",
       "      <td>0</td>\n",
       "      <td>0</td>\n",
       "      <td>0</td>\n",
       "      <td>1</td>\n",
       "      <td>0</td>\n",
       "    </tr>\n",
       "    <tr>\n",
       "      <th>2</th>\n",
       "      <td>1</td>\n",
       "      <td>1</td>\n",
       "      <td>0</td>\n",
       "      <td>1</td>\n",
       "      <td>0</td>\n",
       "      <td>0</td>\n",
       "      <td>1</td>\n",
       "      <td>1</td>\n",
       "      <td>0</td>\n",
       "    </tr>\n",
       "    <tr>\n",
       "      <th>3</th>\n",
       "      <td>1</td>\n",
       "      <td>1</td>\n",
       "      <td>0</td>\n",
       "      <td>1</td>\n",
       "      <td>0</td>\n",
       "      <td>0</td>\n",
       "      <td>2</td>\n",
       "      <td>1</td>\n",
       "      <td>0</td>\n",
       "    </tr>\n",
       "    <tr>\n",
       "      <th>4</th>\n",
       "      <td>1</td>\n",
       "      <td>1</td>\n",
       "      <td>1</td>\n",
       "      <td>1</td>\n",
       "      <td>0</td>\n",
       "      <td>0</td>\n",
       "      <td>0</td>\n",
       "      <td>1</td>\n",
       "      <td>0</td>\n",
       "    </tr>\n",
       "  </tbody>\n",
       "</table>\n",
       "</div>"
      ],
      "text/plain": [
       "       start  succession  aspect  pine  oak  deciduous  water delta_D delta_T\n",
       "0  Start (S)  Succession  Aspect  Pine  Oak  Deciduous  Water      D      T\n",
       "1          1           1       0     1    0          0      0       1       0\n",
       "2          1           1       0     1    0          0      1       1       0\n",
       "3          1           1       0     1    0          0      2       1       0\n",
       "4          1           1       1     1    0          0      0       1       0"
      ]
     },
     "execution_count": 10,
     "metadata": {},
     "output_type": "execute_result"
    }
   ],
   "source": [
    "df.head()"
   ]
  },
  {
   "cell_type": "code",
   "execution_count": 13,
   "metadata": {},
   "outputs": [
    {
     "name": "stdout",
     "output_type": "stream",
     "text": [
      "  start succession aspect pine oak deciduous water delta_D delta_T\n",
      "1     1          1      0    1   0         0     0       1       0\n",
      "2     1          1      0    1   0         0     1       1       0\n",
      "3     1          1      0    1   0         0     2       1       0\n",
      "4     1          1      1    1   0         0     0       1       0\n",
      "5     1          1      1    1   0         0     1       1       0\n"
     ]
    }
   ],
   "source": [
    "df = df_list[0].copy()\n",
    "df.columns = ['start', 'succession', 'aspect', 'pine', 'oak', 'deciduous', 'water', 'delta_D', 'delta_T']\n",
    "df.drop(0)\n",
    "df.to_csv('Millington_succession.csv', index=False, encoding='ascii')\n",
    "print df.head()"
   ]
  },
  {
   "cell_type": "markdown",
   "metadata": {},
   "source": [
    "Remove intermediate `.html` file"
   ]
  },
  {
   "cell_type": "code",
   "execution_count": 14,
   "metadata": {},
   "outputs": [],
   "source": [
    "%%bash\n",
    "rm '1-s2.0-S1364815209000863-mmc1.html'"
   ]
  },
  {
   "cell_type": "markdown",
   "metadata": {},
   "source": [
    "**Query**: what do land cover classes 7, 8, 10 and 11 given in supplementary materials correspond to? They all transition *to* shrubland (land cover class 5) an so are similar to the 'burnt' class but differ in succession pathway and duration of time spent in class before transition to shrubland."
   ]
  },
  {
   "cell_type": "markdown",
   "metadata": {},
   "source": [
    "## Interpreting land cover classes"
   ]
  },
  {
   "cell_type": "markdown",
   "metadata": {},
   "source": [
    "The land cover classes whose transitions are specified in the table are described in James Millington's PhD thesis. They are described as follows:"
   ]
  },
  {
   "cell_type": "code",
   "execution_count": 15,
   "metadata": {},
   "outputs": [],
   "source": [
    "state_vals = pd.DataFrame({\n",
    "    'state_num': range(1,12),\n",
    "    'Land-cover': ['Pine', 'Transition Forest', 'Deciduous', \n",
    "                   'Holm Oak', 'Pasture', 'Holm Oak with Pasture',\n",
    "                   'Cropland', 'Shrubland', 'Water/Quarry', 'Urban',\n",
    "                   'Burnt']\n",
    "    })"
   ]
  },
  {
   "cell_type": "code",
   "execution_count": 16,
   "metadata": {},
   "outputs": [
    {
     "name": "stdout",
     "output_type": "stream",
     "text": [
      "               Land-cover  state_num\n",
      "0                    Pine          1\n",
      "1       Transition Forest          2\n",
      "2               Deciduous          3\n",
      "3                Holm Oak          4\n",
      "4                 Pasture          5\n",
      "5   Holm Oak with Pasture          6\n",
      "6                Cropland          7\n",
      "7               Shrubland          8\n",
      "8            Water/Quarry          9\n",
      "9                   Urban         10\n",
      "10                  Burnt         11\n"
     ]
    }
   ],
   "source": [
    "print state_vals"
   ]
  },
  {
   "cell_type": "markdown",
   "metadata": {},
   "source": [
    "Mapping these to the land cover types which are relevant for my PhD we find:"
   ]
  },
  {
   "cell_type": "code",
   "execution_count": 17,
   "metadata": {},
   "outputs": [
    {
     "name": "stdout",
     "output_type": "stream",
     "text": [
      "          code  state_num\n",
      "0  WaterQuarry          9\n",
      "1        Burnt         11\n",
      "2       Barley          7\n",
      "3        Wheat          7\n",
      "4          DAL          7\n",
      "5         Pine          1\n",
      "6  TransForest          2\n",
      "7    Deciduous          3\n",
      "8          Oak          4\n",
      "9    Shrubland          5\n"
     ]
    }
   ],
   "source": [
    "map_df = pd.DataFrame({'code': ['WaterQuarry', 'Burnt', 'Barley', 'Wheat', 'DAL', 'Pine', 'TransForest', \n",
    "                       'Deciduous', 'Oak', 'Shrubland'],    \n",
    "                       'state_num':[9, 11, 7, 7, 7, 1, 2, 3, 4, 5]            \n",
    "                      })\n",
    "print map_df"
   ]
  },
  {
   "cell_type": "markdown",
   "metadata": {},
   "source": [
    "Note that Barley, Wheat and DAL (Depleated Agricultural Land) all correspond to the same state in the Millington2009 model: cropland. It may be decided that this part of the model needs to be refined for my purposes, but for the time being, I will assume all three of these land cover types will behave in the same way for succession purposes"
   ]
  },
  {
   "cell_type": "code",
   "execution_count": 18,
   "metadata": {},
   "outputs": [
    {
     "name": "stdout",
     "output_type": "stream",
     "text": [
      "751\n"
     ]
    }
   ],
   "source": [
    "print len(df.index)"
   ]
  },
  {
   "cell_type": "code",
   "execution_count": 19,
   "metadata": {},
   "outputs": [
    {
     "name": "stdout",
     "output_type": "stream",
     "text": [
      "No. records before dropping rows not corresponding to PhD states: 751\n",
      "No. records after dropping rows not corresponding to PhD states: 0\n"
     ]
    }
   ],
   "source": [
    "tmp_df = pd.merge(df, map_df, 'left', left_on='start', right_on='state_num')\n",
    "tmp_df = tmp_df.rename(columns = {'code':'start_code'})\n",
    "tmp_df = pd.merge(tmp_df, map_df, 'left', left_on='delta_D', right_on='state_num')\n",
    "tmp_df = tmp_df.rename(columns = {'code':'end_code'})\n",
    "print 'No. records before dropping rows not corresponding to PhD states: '+str(len(tmp_df.index))\n",
    "tmp_df = tmp_df[(tmp_df.start_code.notnull() & tmp_df.end_code.notnull())]\n",
    "print 'No. records after dropping rows not corresponding to PhD states: '+str(len(tmp_df.index))\n",
    "df = tmp_df[['start_code', 'end_code', 'succession', 'aspect', 'pine', 'oak', 'deciduous', 'water', 'delta_T']]"
   ]
  },
  {
   "cell_type": "code",
   "execution_count": 20,
   "metadata": {},
   "outputs": [
    {
     "name": "stdout",
     "output_type": "stream",
     "text": [
      "Empty DataFrame\n",
      "Columns: [start_code, end_code]\n",
      "Index: []\n"
     ]
    }
   ],
   "source": [
    "print df[['start_code', 'end_code']].drop_duplicates()"
   ]
  },
  {
   "cell_type": "markdown",
   "metadata": {},
   "source": [
    "NOTE: there's a potential issue here because no state appears to transition TO Deciduous. Presumably I've dropped something important here. Something to check up on."
   ]
  },
  {
   "cell_type": "code",
   "execution_count": 17,
   "metadata": {},
   "outputs": [
    {
     "name": "stdout",
     "output_type": "stream",
     "text": [
      "[0 1]\n"
     ]
    }
   ],
   "source": [
    "print df.aspect.unique()"
   ]
  },
  {
   "cell_type": "markdown",
   "metadata": {},
   "source": [
    "## Build cypher query files\n",
    "The next step is to convert the data in the above table into cypher files which can be loaded into the database. Each of these files will have the same basic structure:\n",
    "1. Header (file description comments, priority)\n",
    "2. Query creating succession trajectory\n",
    "3. Sequence of several queries establishing all combinations of environmental conditions which CAUSE that succession trajectory to take place. \n",
    "\n",
    "I wil now develop functions which will create each of these components."
   ]
  },
  {
   "cell_type": "code",
   "execution_count": 18,
   "metadata": {},
   "outputs": [
    {
     "data": {
      "text/plain": [
       "'2018-05-01'"
      ]
     },
     "execution_count": 18,
     "metadata": {},
     "output_type": "execute_result"
    }
   ],
   "source": [
    "import datetime\n",
    "str(datetime.date.today())"
   ]
  },
  {
   "cell_type": "code",
   "execution_count": 19,
   "metadata": {},
   "outputs": [],
   "source": [
    "from make_cypher import get_env_cond_query"
   ]
  },
  {
   "cell_type": "code",
   "execution_count": 21,
   "metadata": {},
   "outputs": [
    {
     "data": {
      "text/plain": [
       "'\\n    MERGE \\n      (ec:EnvironCondition {succession:\"secondary\", \\n                             aspect:\"north\", \\n                             pine:{2},\\n                             oak:{3},\\n                             deciduous:{4},\\n                             water:\"hydric\",\\n                             delta_t:\"0\"})\\n    MATCH \\n      (:LandCoverType {code:\"Pine\", model_ID:$model_ID})\\n      <-[:SOURCE]-(traj:SuccessionTrajectory {model_ID:$model_ID})-[:TARGET]->\\n      (:LandCoverType {code:\"Pine\", model_ID:$model_ID}) \\n    MERGE \\n      (ec)-[:CAUSES]->(traj);\\n    '"
      ]
     },
     "execution_count": 21,
     "metadata": {},
     "output_type": "execute_result"
    }
   ],
   "source": [
    "get_env_cond_query(df.iloc[10])"
   ]
  },
  {
   "cell_type": "code",
   "execution_count": 23,
   "metadata": {},
   "outputs": [],
   "source": [
    "pd.to_pickle(df, 'traj.pkl')"
   ]
  },
  {
   "cell_type": "code",
   "execution_count": null,
   "metadata": {
    "collapsed": true
   },
   "outputs": [],
   "source": []
  }
 ],
 "metadata": {
  "anaconda-cloud": {},
  "kernelspec": {
   "display_name": "datasci",
   "language": "python",
   "name": "datasci"
  },
  "language_info": {
   "codemirror_mode": {
    "name": "ipython",
    "version": 3
   },
   "file_extension": ".py",
   "mimetype": "text/x-python",
   "name": "python",
   "nbconvert_exporter": "python",
   "pygments_lexer": "ipython3",
   "version": "3.7.1"
  }
 },
 "nbformat": 4,
 "nbformat_minor": 1
}
