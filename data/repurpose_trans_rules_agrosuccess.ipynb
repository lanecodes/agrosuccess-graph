{
 "cells": [
  {
   "cell_type": "markdown",
   "metadata": {},
   "source": [
    "# Repurpose Millington2009 transition rules\n"
   ]
  },
  {
   "cell_type": "code",
   "execution_count": 1,
   "metadata": {},
   "outputs": [],
   "source": [
    "import pandas as pd"
   ]
  },
  {
   "cell_type": "markdown",
   "metadata": {},
   "source": [
    "**Query**: what do land cover classes 7, 8, 10 and 11 given in supplementary materials correspond to? They all transition *to* shrubland (land cover class 5) an so are similar to the 'burnt' class but differ in succession pathway and duration of time spent in class before transition to shrubland."
   ]
  },
  {
   "cell_type": "markdown",
   "metadata": {},
   "source": [
    "## Interpreting land cover classes"
   ]
  },
  {
   "cell_type": "markdown",
   "metadata": {},
   "source": [
    "The land cover classes whose transitions are specified in the table are described in James Millington's PhD thesis. They are described as follows:"
   ]
  },
  {
   "cell_type": "code",
   "execution_count": 15,
   "metadata": {},
   "outputs": [],
   "source": [
    "state_vals = pd.DataFrame({\n",
    "    'state_num': range(1,12),\n",
    "    'Land-cover': ['Pine', 'Transition Forest', 'Deciduous', \n",
    "                   'Holm Oak', 'Pasture', 'Holm Oak with Pasture',\n",
    "                   'Cropland', 'Shrubland', 'Water/Quarry', 'Urban',\n",
    "                   'Burnt']\n",
    "    })"
   ]
  },
  {
   "cell_type": "code",
   "execution_count": 16,
   "metadata": {},
   "outputs": [
    {
     "name": "stdout",
     "output_type": "stream",
     "text": [
      "               Land-cover  state_num\n",
      "0                    Pine          1\n",
      "1       Transition Forest          2\n",
      "2               Deciduous          3\n",
      "3                Holm Oak          4\n",
      "4                 Pasture          5\n",
      "5   Holm Oak with Pasture          6\n",
      "6                Cropland          7\n",
      "7               Shrubland          8\n",
      "8            Water/Quarry          9\n",
      "9                   Urban         10\n",
      "10                  Burnt         11\n"
     ]
    }
   ],
   "source": [
    "print state_vals"
   ]
  },
  {
   "cell_type": "markdown",
   "metadata": {},
   "source": [
    "Mapping these to the land cover types which are relevant for my PhD we find:"
   ]
  },
  {
   "cell_type": "code",
   "execution_count": 17,
   "metadata": {},
   "outputs": [
    {
     "name": "stdout",
     "output_type": "stream",
     "text": [
      "          code  state_num\n",
      "0  WaterQuarry          9\n",
      "1        Burnt         11\n",
      "2       Barley          7\n",
      "3        Wheat          7\n",
      "4          DAL          7\n",
      "5         Pine          1\n",
      "6  TransForest          2\n",
      "7    Deciduous          3\n",
      "8          Oak          4\n",
      "9    Shrubland          5\n"
     ]
    }
   ],
   "source": [
    "map_df = pd.DataFrame({'code': ['WaterQuarry', 'Burnt', 'Barley', 'Wheat', 'DAL', 'Pine', 'TransForest', \n",
    "                       'Deciduous', 'Oak', 'Shrubland'],    \n",
    "                       'state_num':[9, 11, 7, 7, 7, 1, 2, 3, 4, 5]            \n",
    "                      })\n",
    "print map_df"
   ]
  },
  {
   "cell_type": "markdown",
   "metadata": {},
   "source": [
    "Note that Barley, Wheat and DAL (Depleated Agricultural Land) all correspond to the same state in the Millington2009 model: cropland. It may be decided that this part of the model needs to be refined for my purposes, but for the time being, I will assume all three of these land cover types will behave in the same way for succession purposes"
   ]
  },
  {
   "cell_type": "code",
   "execution_count": 18,
   "metadata": {},
   "outputs": [
    {
     "name": "stdout",
     "output_type": "stream",
     "text": [
      "751\n"
     ]
    }
   ],
   "source": [
    "print len(df.index)"
   ]
  },
  {
   "cell_type": "code",
   "execution_count": 19,
   "metadata": {},
   "outputs": [
    {
     "name": "stdout",
     "output_type": "stream",
     "text": [
      "No. records before dropping rows not corresponding to PhD states: 751\n",
      "No. records after dropping rows not corresponding to PhD states: 0\n"
     ]
    }
   ],
   "source": [
    "tmp_df = pd.merge(df, map_df, 'left', left_on='start', right_on='state_num')\n",
    "tmp_df = tmp_df.rename(columns = {'code':'start_code'})\n",
    "tmp_df = pd.merge(tmp_df, map_df, 'left', left_on='delta_D', right_on='state_num')\n",
    "tmp_df = tmp_df.rename(columns = {'code':'end_code'})\n",
    "print 'No. records before dropping rows not corresponding to PhD states: '+str(len(tmp_df.index))\n",
    "tmp_df = tmp_df[(tmp_df.start_code.notnull() & tmp_df.end_code.notnull())]\n",
    "print 'No. records after dropping rows not corresponding to PhD states: '+str(len(tmp_df.index))\n",
    "df = tmp_df[['start_code', 'end_code', 'succession', 'aspect', 'pine', 'oak', 'deciduous', 'water', 'delta_T']]"
   ]
  },
  {
   "cell_type": "code",
   "execution_count": 20,
   "metadata": {},
   "outputs": [
    {
     "name": "stdout",
     "output_type": "stream",
     "text": [
      "Empty DataFrame\n",
      "Columns: [start_code, end_code]\n",
      "Index: []\n"
     ]
    }
   ],
   "source": [
    "print df[['start_code', 'end_code']].drop_duplicates()"
   ]
  },
  {
   "cell_type": "markdown",
   "metadata": {},
   "source": [
    "NOTE: there's a potential issue here because no state appears to transition TO Deciduous. Presumably I've dropped something important here. Something to check up on."
   ]
  },
  {
   "cell_type": "code",
   "execution_count": 17,
   "metadata": {},
   "outputs": [
    {
     "name": "stdout",
     "output_type": "stream",
     "text": [
      "[0 1]\n"
     ]
    }
   ],
   "source": [
    "print df.aspect.unique()"
   ]
  },
  {
   "cell_type": "code",
   "execution_count": null,
   "metadata": {
    "collapsed": true
   },
   "outputs": [],
   "source": []
  }
 ],
 "metadata": {
  "anaconda-cloud": {},
  "kernelspec": {
   "display_name": "datasci",
   "language": "python",
   "name": "datasci"
  },
  "language_info": {
   "codemirror_mode": {
    "name": "ipython",
    "version": 3
   },
   "file_extension": ".py",
   "mimetype": "text/x-python",
   "name": "python",
   "nbconvert_exporter": "python",
   "pygments_lexer": "ipython3",
   "version": "3.7.1"
  }
 },
 "nbformat": 4,
 "nbformat_minor": 1
}
