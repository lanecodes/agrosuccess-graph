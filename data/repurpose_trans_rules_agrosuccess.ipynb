{
 "cells": [
  {
   "cell_type": "markdown",
   "metadata": {},
   "source": [
    "# Repurpose Millington2009 transition rules\n"
   ]
  },
  {
   "cell_type": "markdown",
   "metadata": {},
   "source": [
    "The objectives of this notebook are:\n",
    "1. Map land cover types represented in Millington 2009 to land cover types represented in AgroSuccess.\n",
    "2. Identify land cover types present in Millington 2009 and not in AgroSuccess, and vice versa. \n",
    "3. Reconcile these differences to produce a succession transition table for agrosuccess: `agrosuccess_succession.csv`. This can be consumed by cymod to create a land cover transition graph. Variable and state names (rather than codes) should be used in this table."
   ]
  },
  {
   "cell_type": "code",
   "execution_count": 1,
   "metadata": {},
   "outputs": [],
   "source": [
    "import os\n",
    "import sys\n",
    "import warnings\n",
    "from enum import Enum\n",
    "import pandas as pd\n",
    "\n",
    "# Add AgroSuccessGraph scripts to path\n",
    "sys.path.insert(0, \"../scripts\")\n",
    "from clean_millington_trans_table import (\n",
    "    Succession,\n",
    "    Aspect,\n",
    "    SeedPresence,\n",
    "    Water,\n",
    "    MillingtonLct,\n",
    ")"
   ]
  },
  {
   "cell_type": "markdown",
   "metadata": {},
   "source": [
    "## 1. Map Millington land cover types to AgroSuccess types"
   ]
  },
  {
   "cell_type": "code",
   "execution_count": 2,
   "metadata": {},
   "outputs": [],
   "source": [
    "def show_enum(e):\n",
    "    line_len = max([len(item.name) for item in e])\n",
    "    print(e.__name__ + \"\\n\" + \"-\"*len(e.__name__))\n",
    "    for item in e:\n",
    "        print(\"{0: <{1}} {2}\".format(item.name, line_len + 5, item.value))"
   ]
  },
  {
   "cell_type": "markdown",
   "metadata": {},
   "source": [
    "The land cover types represented in AgroSuccess are specified by the following class:"
   ]
  },
  {
   "cell_type": "code",
   "execution_count": 3,
   "metadata": {},
   "outputs": [],
   "source": [
    "class AgroSuccessLct(Enum):\n",
    "    \"\"\"Land cover types and corresponding codes used in AgroSuccess.\"\"\"\n",
    "    WATER_QUARRY = 0\n",
    "    BURNT = 1\n",
    "    BARLEY = 2\n",
    "    WHEAT = 3\n",
    "    DAL = 4\n",
    "    SHRUBLAND = 5\n",
    "    PINE = 6\n",
    "    TRANS_FOREST = 7\n",
    "    DECIDUOUS = 8\n",
    "    OAK = 9   "
   ]
  },
  {
   "cell_type": "markdown",
   "metadata": {},
   "source": [
    "Comparing these types to AgroSuccessLct we get the following"
   ]
  },
  {
   "cell_type": "code",
   "execution_count": 4,
   "metadata": {},
   "outputs": [
    {
     "name": "stdout",
     "output_type": "stream",
     "text": [
      "MillingtonLct\n",
      "-------------\n",
      "PINE                    1\n",
      "TRANSITION_FOREST       2\n",
      "DECIDUOUS               3\n",
      "HOLM_OAK                4\n",
      "PASTURE                 5\n",
      "HOLM_OAK_W_PASTURE      6\n",
      "CROPLAND                7\n",
      "SCRUBLAND               8\n",
      "WATER_QUARRY            9\n",
      "URBAN                   10\n",
      "BURNT                   11\n",
      "\n",
      "AgroSuccessLct\n",
      "--------------\n",
      "WATER_QUARRY      0\n",
      "BURNT             1\n",
      "BARLEY            2\n",
      "WHEAT             3\n",
      "DAL               4\n",
      "SHRUBLAND         5\n",
      "PINE              6\n",
      "TRANS_FOREST      7\n",
      "DECIDUOUS         8\n",
      "OAK               9\n"
     ]
    }
   ],
   "source": [
    "show_enum(MillingtonLct)\n",
    "print(\"\")\n",
    "show_enum(AgroSuccessLct)"
   ]
  },
  {
   "cell_type": "markdown",
   "metadata": {},
   "source": [
    "The simple 1:1 mappings are as follows:"
   ]
  },
  {
   "cell_type": "code",
   "execution_count": 5,
   "metadata": {},
   "outputs": [],
   "source": [
    "m_to_a_lct = {\n",
    "    MillingtonLct.PINE: AgroSuccessLct.PINE,\n",
    "    MillingtonLct.HOLM_OAK: AgroSuccessLct.OAK,\n",
    "    MillingtonLct.DECIDUOUS: AgroSuccessLct.DECIDUOUS,\n",
    "    MillingtonLct.WATER_QUARRY: AgroSuccessLct.WATER_QUARRY,\n",
    "    MillingtonLct.BURNT: AgroSuccessLct.BURNT,\n",
    "    MillingtonLct.TRANSITION_FOREST: AgroSuccessLct.TRANS_FOREST,    \n",
    "}"
   ]
  },
  {
   "cell_type": "code",
   "execution_count": 6,
   "metadata": {},
   "outputs": [
    {
     "name": "stdout",
     "output_type": "stream",
     "text": [
      "LCTs in Millington, not used in AgroSuccess:\n",
      "['PASTURE', 'HOLM_OAK_W_PASTURE', 'CROPLAND', 'SCRUBLAND', 'URBAN']\n",
      "\n",
      "LCTs in AgroSuccess, not used in Millington:\n",
      "['BARLEY', 'WHEAT', 'DAL', 'SHRUBLAND']\n"
     ]
    }
   ],
   "source": [
    "unmapped_m_lcts = [lct.name for lct in MillingtonLct \n",
    "                   if lct not in m_to_a_lct.keys()]\n",
    "print(\"LCTs in Millington, not used in AgroSuccess:\", \n",
    "      unmapped_m_lcts, sep=\"\\n\")\n",
    "print()\n",
    "unmapped_as_lcts = [lct.name for lct in AgroSuccessLct \n",
    "                    if lct not in m_to_a_lct.values()]\n",
    "print(\"LCTs in AgroSuccess, not used in Millington:\", \n",
    "      unmapped_as_lcts, sep=\"\\n\")"
   ]
  },
  {
   "cell_type": "markdown",
   "metadata": {},
   "source": [
    "These results suggest the following modifications to repurpose the Millington 2009 transition rules for AgroSuccess:\n",
    "\n",
    "- Pasture and scrubland -> shrubland\n",
    "- cropland differentiated into wheat, barley and depleated agricultural land"
   ]
  },
  {
   "cell_type": "code",
   "execution_count": 7,
   "metadata": {},
   "outputs": [
    {
     "name": "stdout",
     "output_type": "stream",
     "text": [
      "   start  succession  aspect  pine  oak  deciduous  water  delta_D  delta_T\n",
      "0      1           1       0     1    0          0      0        1        0\n",
      "1      1           1       0     1    0          0      1        1        0\n",
      "2      1           1       0     1    0          0      2        1        0\n",
      "3      1           1       1     1    0          0      0        1        0\n",
      "4      1           1       1     1    0          0      1        1        0\n"
     ]
    }
   ],
   "source": [
    "m_table_file = os.path.join(\"tmp\", \"millington_succession.csv\")\n",
    "m_df = pd.read_csv(m_table_file)\n",
    "print(m_df.head())"
   ]
  },
  {
   "cell_type": "markdown",
   "metadata": {},
   "source": [
    "To help investigate further, let's look at the Millington table with state codes replaced with numbers"
   ]
  },
  {
   "cell_type": "code",
   "execution_count": 8,
   "metadata": {},
   "outputs": [],
   "source": [
    "def get_translator(trans_enum):\n",
    "    \"\"\"Make a function which uses an enum to translate a dataframe column.\"\"\"\n",
    "    def code_translator(df, col_name, post_proc_func=None):\n",
    "        \"\"\"Replace codes with names in the :obj:`pandas.DataFrame` column.\n",
    "        \n",
    "        Args:\n",
    "            df (:obj:`pandas.DataFrame`): Datafame containing column to \n",
    "                convert.\n",
    "            col_name (str): Name of the column to convert.\n",
    "            post_proc_func (function, optional): Function to apply to each \n",
    "                enum member name after it's been used to replace a codes in \n",
    "                the column.\n",
    "        \"\"\"\n",
    "        df[col_name] = df[col_name].apply(lambda x: trans_enum(x).name)\n",
    "        if post_proc_func:\n",
    "            df[col_name] = df[col_name].apply(post_proc_func)\n",
    "        return df\n",
    "    return code_translator\n",
    "\n",
    "def millington_trans_table_codes_to_names(df):\n",
    "    \"\"\"Replace state/condition codes in Millington trans table with names.\"\"\"\n",
    "    for state_col in [\"start\", \"delta_D\"]:\n",
    "        df = get_translator(MillingtonLct)(df, state_col, lambda x: x.lower())\n",
    "\n",
    "    for seed_col in [\"pine\", \"oak\", \"deciduous\"]:\n",
    "        df = get_translator(SeedPresence)(\n",
    "            df, seed_col, lambda x: True if x==\"true\" else False)\n",
    "\n",
    "    df = get_translator(Succession)(df, \"succession\", lambda x: x.lower())\n",
    "    df = get_translator(Aspect)(df, \"aspect\", lambda x: x.lower())\n",
    "    df = get_translator(Water)(df, \"water\", lambda x: x.lower())\n",
    "    return df"
   ]
  },
  {
   "cell_type": "code",
   "execution_count": 9,
   "metadata": {},
   "outputs": [
    {
     "name": "stdout",
     "output_type": "stream",
     "text": [
      "  start succession aspect   pine    oak  deciduous   water delta_D  delta_T\n",
      "0  pine  secondary  north  False  False      False   xeric    pine        0\n",
      "1  pine  secondary  north  False  False      False   mesic    pine        0\n",
      "2  pine  secondary  north  False  False      False  hydric    pine        0\n",
      "3  pine  secondary  south  False  False      False   xeric    pine        0\n",
      "4  pine  secondary  south  False  False      False   mesic    pine        0\n"
     ]
    }
   ],
   "source": [
    "m_df = millington_trans_table_codes_to_names(m_df)\n",
    "print(m_df.head())"
   ]
  },
  {
   "cell_type": "markdown",
   "metadata": {},
   "source": [
    "### 1. Drop URBAN and HOLM_OAK_W_PASTURE\n",
    " The `URBAN` and `HOLM_OAK_W_PASTURE` land cover types used in Millington 2009 are not needed in AgroSuccess so should be removed entirely. To ensure model integrity I will check that there are no land cover types which *only* come about by transition *from* `URBAN` or `HOLM_OAK_W_PASTURE`. I.e."
   ]
  },
  {
   "cell_type": "code",
   "execution_count": 10,
   "metadata": {},
   "outputs": [],
   "source": [
    "def state_is_exclusive_source_of_other_state(trans_df, state_name):\n",
    "    \"\"\"True if at least one state only accessible from `state_name`.\"\"\"\n",
    "    def tgt_states(df, src_lct_name):\n",
    "        \"\"\"Get the states which can originate from `src_lct_name`.\n",
    "\n",
    "        Exclude the `src_lct_name` state itself.\n",
    "\n",
    "        Returns:\n",
    "            list: Names of states which have `src_lct_name` as their source.\n",
    "        \"\"\"\n",
    "        start_col = \"start\"\n",
    "        end_col = \"delta_D\"\n",
    "        # TODO add warning if src state not in dataframe\n",
    "        all_trans = df.groupby(by=[start_col, end_col]).size().reset_index()\n",
    "        if len(all_trans[all_trans[start_col] == src_lct_name]) == 0:\n",
    "            warnings.warn(\"No start state called '{0}'\".format(src_lct_name))\n",
    "            return []\n",
    "        else:\n",
    "            tgt_trans = all_trans[(all_trans[start_col] == src_lct_name) \n",
    "                                  & (all_trans[end_col] != src_lct_name)]\n",
    "            return list(tgt_trans[end_col].values)    \n",
    "\n",
    "    def src_states(df, tgt_lct_name):\n",
    "        \"\"\"Get the states which `tgt_lct_name` can transition from.\n",
    "\n",
    "        Exclude the `tgt_lct_name` state itself.\n",
    "\n",
    "        Returns:\n",
    "            list: Names of states which can transition to `tgt_lct_name`.    \n",
    "        \"\"\"\n",
    "        start_col = \"start\"\n",
    "        end_col = \"delta_D\"\n",
    "        all_trans = df.groupby(by=[start_col, end_col]).size().reset_index()\n",
    "        src_trans = all_trans[(all_trans[end_col] == tgt_lct_name) \n",
    "                              & (all_trans[start_col] != tgt_lct_name)]\n",
    "        return list(src_trans[start_col].values)\n",
    "    \n",
    "    states_from_state_name = tgt_states(trans_df, state_name)\n",
    "    exclusive_source_for = []\n",
    "    for other_state in states_from_state_name:\n",
    "        other_state_sources = src_states(trans_df, other_state)\n",
    "        other_state_sources.remove(state_name)\n",
    "        if len(other_state_sources) < 1:\n",
    "            exclusive_source_for.append(other_state)\n",
    "    if exclusive_source_for:\n",
    "        print(\"{0} is the only source for states: {1}\".format(\n",
    "            state_name, \", \".join(exclusive_source_for)))\n",
    "        return True\n",
    "    else:\n",
    "        return False"
   ]
  },
  {
   "cell_type": "code",
   "execution_count": 11,
   "metadata": {},
   "outputs": [],
   "source": [
    "def drop_holm_oak_w_pasture_and_urban(df):\n",
    "    \"\"\"Remove rows with excluded land cover types as start or end state.\n",
    "    \n",
    "    holm_oak_w_pasture and urban land cover types removed.\n",
    "    \"\"\"\n",
    "    def row_excludes_lct(row, lct_name):\n",
    "        \"\"\"Return True if row doesn't have lct as start or end state.\"\"\"\n",
    "        start_col = \"start\"\n",
    "        end_col = \"delta_D\"\n",
    "        if row[start_col] == lct_name or row[end_col] == lct_name:\n",
    "            return False\n",
    "        else:\n",
    "            return True\n",
    "    \n",
    "    # Confirm removing these states won't leave any other states in the model\n",
    "    # inaccessbile, and remove it.\n",
    "    for state in [\"holm_oak_w_pasture\", \"urban\"]:\n",
    "        assert state_is_exclusive_source_of_other_state(df, state) == False\n",
    "        no_rows = len(df.index)\n",
    "        df = df[df.apply(lambda x: row_excludes_lct(x, state), axis=1)]\n",
    "        assert len(df.index) < no_rows   \n",
    "    return df"
   ]
  },
  {
   "cell_type": "code",
   "execution_count": 12,
   "metadata": {},
   "outputs": [],
   "source": [
    "as_df = drop_holm_oak_w_pasture_and_urban(m_df)"
   ]
  },
  {
   "cell_type": "markdown",
   "metadata": {},
   "source": [
    "Outstanding queries about mapping from Millington LCTs to AgroSuccess LCTs\n",
    "1. How should I Map CROPLAND to BARLEY, WHEAT and DAL?\n",
    "2. Why doesn't shrubland appear in MillingtonLct? shrubland appears in the Millington2009 paper but not in James's thesis. I seem to remember discussing whether that might map directly to another landcover type in the thesis. Possibly pasture or scrubland?\n",
    "3. Might it make sense to drop HOLM_OAK_WITH_PASTURE, URBAN, PASTURE, SCRUBLAND?"
   ]
  },
  {
   "cell_type": "markdown",
   "metadata": {},
   "source": [
    "The problem is what to do about transitions going from another state to cropland in Millington2009. In that case, which of my new type (Barley, Wheat or DAL) should the cell transition to?"
   ]
  },
  {
   "cell_type": "markdown",
   "metadata": {},
   "source": [
    "**Query**: what do land cover classes 7, 8, 10 and 11 given in supplementary materials correspond to? They all transition *to* shrubland (land cover class 5) an so are similar to the 'burnt' class but differ in succession pathway and duration of time spent in class before transition to shrubland."
   ]
  },
  {
   "cell_type": "markdown",
   "metadata": {},
   "source": [
    "### 2. Replace 'cropland' with 'barley', 'wheat' and 'DAL'"
   ]
  },
  {
   "cell_type": "markdown",
   "metadata": {},
   "source": [
    "Find states transitioning from cropland to something else:"
   ]
  },
  {
   "cell_type": "code",
   "execution_count": 13,
   "metadata": {},
   "outputs": [
    {
     "data": {
      "text/plain": [
       "array(['pasture'], dtype=object)"
      ]
     },
     "execution_count": 13,
     "metadata": {},
     "output_type": "execute_result"
    }
   ],
   "source": [
    "as_df[as_df[\"start\"] == \"cropland\"][\"delta_D\"].unique()"
   ]
  },
  {
   "cell_type": "markdown",
   "metadata": {},
   "source": [
    "So all cropland transitions to pasture. What transitions to cropland?"
   ]
  },
  {
   "cell_type": "code",
   "execution_count": 14,
   "metadata": {},
   "outputs": [
    {
     "data": {
      "text/plain": [
       "array([], dtype=object)"
      ]
     },
     "execution_count": 14,
     "metadata": {},
     "output_type": "execute_result"
    }
   ],
   "source": [
    "as_df[as_df[\"delta_D\"] == \"cropland\"][\"start\"].unique()"
   ]
  },
  {
   "cell_type": "markdown",
   "metadata": {},
   "source": [
    "Nothing. Okay so although `MillingtonLct.CROPLAND` doesn't map 1:1 with anything in `AgroSuccessLct`, we can replace rows matching  `as_df[\"start\"] == \"cropland\"` with the same conditions starting with `\"wheat\"`, `barley` or `\"dal\"`"
   ]
  },
  {
   "cell_type": "code",
   "execution_count": 15,
   "metadata": {},
   "outputs": [],
   "source": [
    "def replace_cropland_with_new_crop_types(df):\n",
    "    \"\"\"Replace Millington's cropland state with wheat, barley and DAL.\n",
    "    \n",
    "    Args:\n",
    "        df (:obj:`pandas.DataFrame`): Original transition table containing \n",
    "            'cropland' as a land cover state.\n",
    "            \n",
    "    Returns:\n",
    "        df: A new dataframe where rows representing transitions involving \n",
    "            cropland are replaced with rows describing transitions involving\n",
    "            wheat, barley and DAL (depleated agricultural land) states.\n",
    "    \"\"\"\n",
    "    # There are no transitions where cropland is the target state. \n",
    "    # Correspondingly no transitions have the new cropland land cover types\n",
    "    # as their target state. This makes sense, as cropland is something which\n",
    "    # humans need to create.\n",
    "    assert len(df[df[\"delta_D\"] == \"cropland\"].index) == 0\n",
    "    \n",
    "    # Rows from old table where cropland is the transition's starting state\n",
    "    from_cropland = df[df[\"start\"] == \"cropland\"]\n",
    "    \n",
    "    new_crop_dfs = []\n",
    "    for crop in [\"wheat\", \"barley\", \"dal\"]:\n",
    "        new_crop = from_cropland.copy()\n",
    "        new_crop.loc[:,\"start\"] = crop\n",
    "        new_crop_dfs.append(new_crop)\n",
    "\n",
    "    new_df = df.copy()\n",
    "    new_df = new_df[new_df[\"start\"] != \"cropland\"] # remove old cropland rows\n",
    "    new_df = pd.concat([new_df] + new_crop_dfs)\n",
    "\n",
    "    assert len(new_df.index) == len(df.index) - len(from_cropland.index) \\\n",
    "                                + 3*len(from_cropland.index)    \n",
    "    \n",
    "    return new_df"
   ]
  },
  {
   "cell_type": "code",
   "execution_count": 16,
   "metadata": {},
   "outputs": [],
   "source": [
    "as_df = replace_cropland_with_new_crop_types(as_df)"
   ]
  },
  {
   "cell_type": "code",
   "execution_count": 17,
   "metadata": {},
   "outputs": [
    {
     "data": {
      "text/plain": [
       "676"
      ]
     },
     "execution_count": 17,
     "metadata": {},
     "output_type": "execute_result"
    }
   ],
   "source": [
    "len(as_df.index)"
   ]
  },
  {
   "cell_type": "code",
   "execution_count": 19,
   "metadata": {},
   "outputs": [
    {
     "data": {
      "text/html": [
       "<div>\n",
       "<style scoped>\n",
       "    .dataframe tbody tr th:only-of-type {\n",
       "        vertical-align: middle;\n",
       "    }\n",
       "\n",
       "    .dataframe tbody tr th {\n",
       "        vertical-align: top;\n",
       "    }\n",
       "\n",
       "    .dataframe thead th {\n",
       "        text-align: right;\n",
       "    }\n",
       "</style>\n",
       "<table border=\"1\" class=\"dataframe\">\n",
       "  <thead>\n",
       "    <tr style=\"text-align: right;\">\n",
       "      <th></th>\n",
       "      <th>start</th>\n",
       "      <th>succession</th>\n",
       "      <th>aspect</th>\n",
       "      <th>pine</th>\n",
       "      <th>oak</th>\n",
       "      <th>deciduous</th>\n",
       "      <th>water</th>\n",
       "      <th>delta_D</th>\n",
       "      <th>delta_T</th>\n",
       "    </tr>\n",
       "  </thead>\n",
       "  <tbody>\n",
       "    <tr>\n",
       "      <th>0</th>\n",
       "      <td>pine</td>\n",
       "      <td>secondary</td>\n",
       "      <td>north</td>\n",
       "      <td>False</td>\n",
       "      <td>False</td>\n",
       "      <td>False</td>\n",
       "      <td>xeric</td>\n",
       "      <td>pine</td>\n",
       "      <td>0</td>\n",
       "    </tr>\n",
       "    <tr>\n",
       "      <th>1</th>\n",
       "      <td>pine</td>\n",
       "      <td>secondary</td>\n",
       "      <td>north</td>\n",
       "      <td>False</td>\n",
       "      <td>False</td>\n",
       "      <td>False</td>\n",
       "      <td>mesic</td>\n",
       "      <td>pine</td>\n",
       "      <td>0</td>\n",
       "    </tr>\n",
       "    <tr>\n",
       "      <th>2</th>\n",
       "      <td>pine</td>\n",
       "      <td>secondary</td>\n",
       "      <td>north</td>\n",
       "      <td>False</td>\n",
       "      <td>False</td>\n",
       "      <td>False</td>\n",
       "      <td>hydric</td>\n",
       "      <td>pine</td>\n",
       "      <td>0</td>\n",
       "    </tr>\n",
       "    <tr>\n",
       "      <th>3</th>\n",
       "      <td>pine</td>\n",
       "      <td>secondary</td>\n",
       "      <td>south</td>\n",
       "      <td>False</td>\n",
       "      <td>False</td>\n",
       "      <td>False</td>\n",
       "      <td>xeric</td>\n",
       "      <td>pine</td>\n",
       "      <td>0</td>\n",
       "    </tr>\n",
       "    <tr>\n",
       "      <th>4</th>\n",
       "      <td>pine</td>\n",
       "      <td>secondary</td>\n",
       "      <td>south</td>\n",
       "      <td>False</td>\n",
       "      <td>False</td>\n",
       "      <td>False</td>\n",
       "      <td>mesic</td>\n",
       "      <td>pine</td>\n",
       "      <td>0</td>\n",
       "    </tr>\n",
       "  </tbody>\n",
       "</table>\n",
       "</div>"
      ],
      "text/plain": [
       "  start succession aspect   pine    oak  deciduous   water delta_D  delta_T\n",
       "0  pine  secondary  north  False  False      False   xeric    pine        0\n",
       "1  pine  secondary  north  False  False      False   mesic    pine        0\n",
       "2  pine  secondary  north  False  False      False  hydric    pine        0\n",
       "3  pine  secondary  south  False  False      False   xeric    pine        0\n",
       "4  pine  secondary  south  False  False      False   mesic    pine        0"
      ]
     },
     "execution_count": 19,
     "metadata": {},
     "output_type": "execute_result"
    }
   ],
   "source": [
    "as_df.head()"
   ]
  },
  {
   "cell_type": "markdown",
   "metadata": {},
   "source": [
    "### 3. Pasture and scrubland -> shrubland"
   ]
  },
  {
   "cell_type": "code",
   "execution_count": null,
   "metadata": {},
   "outputs": [],
   "source": []
  },
  {
   "cell_type": "markdown",
   "metadata": {},
   "source": [
    "## Interpreting land cover classes"
   ]
  },
  {
   "cell_type": "markdown",
   "metadata": {},
   "source": [
    "The land cover classes whose transitions are specified in the table are described in James Millington's PhD thesis. They are described as follows:"
   ]
  },
  {
   "cell_type": "code",
   "execution_count": null,
   "metadata": {},
   "outputs": [],
   "source": [
    "state_vals = pd.DataFrame({\n",
    "    'state_num': range(1,12),\n",
    "    'Land-cover': ['Pine', 'Transition Forest', 'Deciduous', \n",
    "                   'Holm Oak', 'Pasture', 'Holm Oak with Pasture',\n",
    "                   'Cropland', 'Shrubland', 'Water/Quarry', 'Urban',\n",
    "                   'Burnt']\n",
    "    })"
   ]
  },
  {
   "cell_type": "code",
   "execution_count": null,
   "metadata": {},
   "outputs": [],
   "source": [
    "print state_vals"
   ]
  },
  {
   "cell_type": "markdown",
   "metadata": {},
   "source": [
    "Mapping these to the land cover types which are relevant for my PhD we find:"
   ]
  },
  {
   "cell_type": "code",
   "execution_count": null,
   "metadata": {},
   "outputs": [],
   "source": [
    "map_df = pd.DataFrame({'code': ['WaterQuarry', 'Burnt', 'Barley', 'Wheat', 'DAL', 'Pine', 'TransForest', \n",
    "                       'Deciduous', 'Oak', 'Shrubland'],    \n",
    "                       'state_num':[9, 11, 7, 7, 7, 1, 2, 3, 4, 5]            \n",
    "                      })\n",
    "print map_df"
   ]
  },
  {
   "cell_type": "markdown",
   "metadata": {},
   "source": [
    "Note that Barley, Wheat and DAL (Depleated Agricultural Land) all correspond to the same state in the Millington2009 model: cropland. It may be decided that this part of the model needs to be refined for my purposes, but for the time being, I will assume all three of these land cover types will behave in the same way for succession purposes"
   ]
  },
  {
   "cell_type": "code",
   "execution_count": null,
   "metadata": {},
   "outputs": [],
   "source": [
    "print len(df.index)"
   ]
  },
  {
   "cell_type": "code",
   "execution_count": null,
   "metadata": {},
   "outputs": [],
   "source": [
    "tmp_df = pd.merge(df, map_df, 'left', left_on='start', right_on='state_num')\n",
    "tmp_df = tmp_df.rename(columns = {'code':'start_code'})\n",
    "tmp_df = pd.merge(tmp_df, map_df, 'left', left_on='delta_D', right_on='state_num')\n",
    "tmp_df = tmp_df.rename(columns = {'code':'end_code'})\n",
    "print 'No. records before dropping rows not corresponding to PhD states: '+str(len(tmp_df.index))\n",
    "tmp_df = tmp_df[(tmp_df.start_code.notnull() & tmp_df.end_code.notnull())]\n",
    "print 'No. records after dropping rows not corresponding to PhD states: '+str(len(tmp_df.index))\n",
    "df = tmp_df[['start_code', 'end_code', 'succession', 'aspect', 'pine', 'oak', 'deciduous', 'water', 'delta_T']]"
   ]
  },
  {
   "cell_type": "code",
   "execution_count": null,
   "metadata": {},
   "outputs": [],
   "source": [
    "print df[['start_code', 'end_code']].drop_duplicates()"
   ]
  },
  {
   "cell_type": "markdown",
   "metadata": {},
   "source": [
    "NOTE: there's a potential issue here because no state appears to transition TO Deciduous. Presumably I've dropped something important here. Something to check up on."
   ]
  },
  {
   "cell_type": "code",
   "execution_count": null,
   "metadata": {},
   "outputs": [],
   "source": [
    "print df.aspect.unique()"
   ]
  },
  {
   "cell_type": "code",
   "execution_count": null,
   "metadata": {},
   "outputs": [],
   "source": []
  }
 ],
 "metadata": {
  "anaconda-cloud": {},
  "kernelspec": {
   "display_name": "datasci",
   "language": "python",
   "name": "datasci"
  },
  "language_info": {
   "codemirror_mode": {
    "name": "ipython",
    "version": 3
   },
   "file_extension": ".py",
   "mimetype": "text/x-python",
   "name": "python",
   "nbconvert_exporter": "python",
   "pygments_lexer": "ipython3",
   "version": "3.7.1"
  }
 },
 "nbformat": 4,
 "nbformat_minor": 1
}
