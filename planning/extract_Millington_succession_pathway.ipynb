{
 "cells": [
  {
   "cell_type": "markdown",
   "metadata": {},
   "source": [
    "# Extract succession pathway data published by Millington et al. 2009\n",
    "\n",
    "In their paper, [Millington, Wainwright and Perry (2009)](https://doi.org/10.1016/j.envsoft.2009.03.013) describe a landscape fire-succession model which represents the variaous ways in which landscape vegetation can evolve under different environmental conditions. An important component of this model is a representation of the different pathways along which a particular patch of the landscape might evolve, contingent on other environmental variables appearing endogenously within the model. For example, during the course of secondary succession following a wildfire, a patch of shrubland might (all else being equal) transform into a deciduous forest under hydric (wet) conditions, or a pine forest under xeric (dry) conditions. Alternatively succession pathways might be disturbance-mediated: if fires are infrequent, incumbent resprouting oak trees may regenerate into an oak forest once more, whereas frequent fire may favour pine species whose seeds lie dormant in the soil awaiting stand-clearing fires to reduce light competition.\n",
    "\n",
    "These succession pathways (among many other possibilities) are represented in Fig. 2 of the referenced [paper](https://doi.org/10.1016/j.envsoft.2009.03.013). They are also provided as a table in the paper's supplementary materials in a file called `1-s2.0-S1364815209000863-mmc1.doc`. In this short notebook we perform some rudimentary data cleansing to extract this data and record it in a more easily machine-readable `.csv` format."
   ]
  },
  {
   "cell_type": "code",
   "execution_count": 6,
   "metadata": {
    "collapsed": true
   },
   "outputs": [],
   "source": [
    "import pandas as pd"
   ]
  },
  {
   "cell_type": "markdown",
   "metadata": {},
   "source": [
    "Using Libreoffice (in headless mode), convert the supplementary materials document into a `.html` document which can be easily consumed by standard data analysis tools."
   ]
  },
  {
   "cell_type": "code",
   "execution_count": 1,
   "metadata": {
    "collapsed": false
   },
   "outputs": [
    {
     "name": "stdout",
     "output_type": "stream",
     "text": [
      "convert /home/andrew/Dropbox/phd/models/AgroSuccess/planning/1-s2.0-S1364815209000863-mmc1.doc -> /home/andrew/Dropbox/phd/models/AgroSuccess/planning/1-s2.0-S1364815209000863-mmc1.html using filter : HTML (StarWriter)\n",
      "1-s2.0-S1364815209000863-mmc1.doc\n",
      "1-s2.0-S1364815209000863-mmc1.html\n",
      "development-notes.org\n",
      "development-notes.org~\n",
      "extract_Millington_succession_pathway.html\n",
      "extract_Millington_succession_pathway.ipynb\n",
      "landcover-properties.csv\n",
      "make_cypher.py\n",
      "make_cypher.py~\n",
      "make_cypher.pyc\n",
      "Millington_succession.csv\n",
      "model-specification.odp\n",
      "Transition-table.pdf\n"
     ]
    }
   ],
   "source": [
    "%%bash\n",
    "soffice --convert-to html 1-s2.0-S1364815209000863-mmc1.doc --headless\n",
    "ls"
   ]
  },
  {
   "cell_type": "markdown",
   "metadata": {},
   "source": [
    "Read in output `.html` file as a string"
   ]
  },
  {
   "cell_type": "code",
   "execution_count": 2,
   "metadata": {
    "collapsed": false
   },
   "outputs": [
    {
     "name": "stdout",
     "output_type": "stream",
     "text": [
      "<!DOCTYPE HTML PUBLIC \"-//W3C//DTD HTML 4.0 Transitional//EN\">\n",
      "<html>\n",
      "<head>\n",
      "\t<meta http-equiv=\"content-type\" content=\"text/html; charset=utf-8\"/>\n",
      "\t<title>ONLINE MATERIAL</title>\n",
      "\t<meta name=\"generator\" content=\"LibreOffice 5.1.6.2 (Linux)\"/>\n",
      "\t<meta name=\"author\" content=\"jmil\"/>\n",
      "\t<meta name=\"created\" content=\"2008-02-13T00:10:00\"/>\n",
      "\t<meta name=\"changedby\" content=\"jmil\"/>\n",
      "\t<meta name=\"changed\" content=\"2008-02-28T01:09:00\"/>\n",
      "\t<style type=\"text/css\">\n",
      "\t\t@page { size: 21.59cm 27.94cm; margin: 1.91\n",
      "\n",
      "...\n",
      "\n",
      "rn\" align=\"justify\" style=\"margin-bottom: 0cm; line-height: 150%\">\n",
      "<i>D</i><font face=\"Symbol, serif\"></font> Land-cover given by\n",
      "code in Table 1</p>\n",
      "<p class=\"western\" align=\"justify\" style=\"margin-bottom: 0cm; line-height: 150%\">\n",
      "<i>T</i><font face=\"Symbol, serif\"></font>Total time (years)\n",
      "required to complete transition from S to <font face=\"Symbol, serif\"></font>\n",
      "D</p>\n",
      "<p class=\"western\" align=\"left\" style=\"margin-bottom: 0cm; line-height: 100%\">\n",
      "<br/>\n",
      "\n",
      "</p>\n",
      "</body>\n",
      "</html>\n"
     ]
    }
   ],
   "source": [
    "with open('1-s2.0-S1364815209000863-mmc1.html', 'r') as f:\n",
    "    html_string = f.read()\n",
    "\n",
    "print html_string[:500]\n",
    "print '\\n...\\n'\n",
    "print html_string[-500:]"
   ]
  },
  {
   "cell_type": "markdown",
   "metadata": {},
   "source": [
    "While not immediately obvious from the above sample, the html stored in `html_string` contains a `<table>` element holding our data. The `pandas` module contains a `read_html` method which will extract this data as a list of dataframes."
   ]
  },
  {
   "cell_type": "code",
   "execution_count": 7,
   "metadata": {
    "collapsed": false
   },
   "outputs": [],
   "source": [
    "df_list = pd.read_html(html_string)"
   ]
  },
  {
   "cell_type": "code",
   "execution_count": 8,
   "metadata": {
    "collapsed": false
   },
   "outputs": [
    {
     "name": "stdout",
     "output_type": "stream",
     "text": [
      "   Start  (S)  Succession  Aspect  Pine  Oak  Deciduous  Water  D  T\n",
      "0           1           1       0     1    0          0      0   1   0\n",
      "1           1           1       0     1    0          0      1   1   0\n",
      "2           1           1       0     1    0          0      2   1   0\n",
      "3           1           1       1     1    0          0      0   1   0\n",
      "4           1           1       1     1    0          0      1   1   0\n",
      "\n",
      "...\n",
      "\n",
      "     Start  (S)  Succession  Aspect  Pine  Oak  Deciduous  Water  D  T\n",
      "746          11           0       1     0    1          1      2   5   2\n",
      "747          11           0       1     1    0          0      2   5   2\n",
      "748          11           0       1     1    0          1      2   5   2\n",
      "749          11           0       1     1    1          0      2   5   2\n",
      "750          11           0       1     1    1          1      2   5   2\n"
     ]
    }
   ],
   "source": [
    "print df_list[0].head()\n",
    "print '\\n...\\n'\n",
    "print df_list[0].tail()"
   ]
  },
  {
   "cell_type": "markdown",
   "metadata": {},
   "source": [
    "This table encodes all the information which is needed by a simulation model to determine the succession trajectory of a patch of landscape under a particular set of conditions (see [Millington, Wainwright and Perry (2009)](https://doi.org/10.1016/j.envsoft.2009.03.013) for details). Briefly:\n",
    "\n",
    "- **Start**: The code of the land cover class (given in the paper) which a patch of vegetation is in at present. Includes e.g. Pine, Oak, Shrubland, or burnt.\n",
    "- **Succession**: Whether the cell is undergoing secondary succession (1) or regeneration succession (0). This is determined by whether or not there were mature resprouters present in  the cell prior to disturbance. If mature resprouters were present the cell undergoes regeneration succession, otherwise they undergo secondary succession.\n",
    "- **Aspect**: The (relative) abundance of light available to a cell. This relevant because of a known tendency for pine saplings to struggle in low light conditions.\n",
    "- **Pine, Oak, and Deciduous**: columns specify whether Pine, Oak and/or Deciduous seeds are present in a cell.\n",
    "- **Water**: The (relative) abundance of water available in the cell.\n",
    "- $\\Delta D$: The *direction of transition*; i.e. the land-cover class which the cell is on track to transition into.\n",
    "- $\\Delta T$: The *time required to complete transition*; i.e. given a particular transition trajectory, the length of time the cell will sit in its current state before transitioning."
   ]
  },
  {
   "cell_type": "markdown",
   "metadata": {},
   "source": [
    "As a final data cleansing step, we rename the columns so data can be stored in ASCII format, and write to a csv file named `Millington_succession.csv`"
   ]
  },
  {
   "cell_type": "code",
   "execution_count": 9,
   "metadata": {
    "collapsed": false
   },
   "outputs": [
    {
     "name": "stdout",
     "output_type": "stream",
     "text": [
      "   start  succession  aspect  pine  oak  deciduous  water  delta_D  delta_T\n",
      "0      1           1       0     1    0          0      0        1        0\n",
      "1      1           1       0     1    0          0      1        1        0\n",
      "2      1           1       0     1    0          0      2        1        0\n",
      "3      1           1       1     1    0          0      0        1        0\n",
      "4      1           1       1     1    0          0      1        1        0\n"
     ]
    }
   ],
   "source": [
    "df = df_list[0].copy()\n",
    "df.columns = ['start', 'succession', 'aspect', 'pine', 'oak', 'deciduous', 'water', 'delta_D', 'delta_T']\n",
    "df.to_csv('Millington_succession.csv', index=False, encoding='ascii')\n",
    "print df.head()"
   ]
  },
  {
   "cell_type": "markdown",
   "metadata": {},
   "source": [
    "Remove intermediate `.html` file"
   ]
  },
  {
   "cell_type": "code",
   "execution_count": 10,
   "metadata": {
    "collapsed": false
   },
   "outputs": [],
   "source": [
    "%%bash\n",
    "rm '1-s2.0-S1364815209000863-mmc1.html'"
   ]
  },
  {
   "cell_type": "markdown",
   "metadata": {},
   "source": [
    "**Query**: what do land cover classes 7, 8, 10 and 11 given in supplementary materials correspond to? They all transition *to* shrubland (land cover class 5) an so are similar to the 'burnt' class but differ in succession pathway and duration of time spent in class before transition to shrubland."
   ]
  },
  {
   "cell_type": "markdown",
   "metadata": {},
   "source": [
    "## Interpreting land cover classes"
   ]
  },
  {
   "cell_type": "markdown",
   "metadata": {},
   "source": [
    "The land cover classes whose transitions are specified in the table are described in James Millington's PhD thesis. They are described as follows:"
   ]
  },
  {
   "cell_type": "code",
   "execution_count": 11,
   "metadata": {
    "collapsed": false
   },
   "outputs": [],
   "source": [
    "state_vals = pd.DataFrame({\n",
    "    'state_num': range(1,12),\n",
    "    'Land-cover': ['Pine', 'Transition Forest', 'Deciduous', \n",
    "                   'Holm Oak', 'Pasture', 'Holm Oak with Pasture',\n",
    "                   'Cropland', 'Shrubland', 'Water/Quarry', 'Urban',\n",
    "                   'Burnt']\n",
    "    })"
   ]
  },
  {
   "cell_type": "code",
   "execution_count": 12,
   "metadata": {
    "collapsed": false
   },
   "outputs": [
    {
     "name": "stdout",
     "output_type": "stream",
     "text": [
      "               Land-cover  state_num\n",
      "0                    Pine          1\n",
      "1       Transition Forest          2\n",
      "2               Deciduous          3\n",
      "3                Holm Oak          4\n",
      "4                 Pasture          5\n",
      "5   Holm Oak with Pasture          6\n",
      "6                Cropland          7\n",
      "7               Shrubland          8\n",
      "8            Water/Quarry          9\n",
      "9                   Urban         10\n",
      "10                  Burnt         11\n"
     ]
    }
   ],
   "source": [
    "print state_vals"
   ]
  },
  {
   "cell_type": "markdown",
   "metadata": {},
   "source": [
    "Mapping these to the land cover types which are relevant for my PhD we find:"
   ]
  },
  {
   "cell_type": "code",
   "execution_count": 13,
   "metadata": {
    "collapsed": false
   },
   "outputs": [
    {
     "name": "stdout",
     "output_type": "stream",
     "text": [
      "          code  state_num\n",
      "0  WaterQuarry          9\n",
      "1        Burnt         11\n",
      "2       Barley          7\n",
      "3        Wheat          7\n",
      "4          DAL          7\n",
      "5         Pine          1\n",
      "6  TransForest          2\n",
      "7    Deciduous          3\n",
      "8          Oak          4\n",
      "9    Shrubland          5\n"
     ]
    }
   ],
   "source": [
    "map_df = pd.DataFrame({'code': ['WaterQuarry', 'Burnt', 'Barley', 'Wheat', 'DAL', 'Pine', 'TransForest', \n",
    "                       'Deciduous', 'Oak', 'Shrubland'],    \n",
    "                       'state_num':[9, 11, 7, 7, 7, 1, 2, 3, 4, 5]            \n",
    "                      })\n",
    "print map_df"
   ]
  },
  {
   "cell_type": "markdown",
   "metadata": {},
   "source": [
    "Note that Barley, Wheat and DAL (Depleated Agricultural Land) all correspond to the same state in the Millington2009 model: cropland. It may be decided that this part of the model needs to be refined for my purposes, but for the time being, I will assume all three of these land cover types will behave in the same way for succession purposes"
   ]
  },
  {
   "cell_type": "code",
   "execution_count": 14,
   "metadata": {
    "collapsed": false
   },
   "outputs": [
    {
     "name": "stdout",
     "output_type": "stream",
     "text": [
      "751\n"
     ]
    }
   ],
   "source": [
    "print len(df.index)"
   ]
  },
  {
   "cell_type": "code",
   "execution_count": 15,
   "metadata": {
    "collapsed": false
   },
   "outputs": [
    {
     "name": "stdout",
     "output_type": "stream",
     "text": [
      "No. records before dropping rows not corresponding to PhD states: 847\n",
      "No. records after dropping rows not corresponding to PhD states: 628\n"
     ]
    }
   ],
   "source": [
    "tmp_df = pd.merge(df, map_df, 'left', left_on='start', right_on='state_num')\n",
    "tmp_df = tmp_df.rename(columns = {'code':'start_code'})\n",
    "tmp_df = pd.merge(tmp_df, map_df, 'left', left_on='delta_D', right_on='state_num')\n",
    "tmp_df = tmp_df.rename(columns = {'code':'end_code'})\n",
    "print 'No. records before dropping rows not corresponding to PhD states: '+str(len(tmp_df.index))\n",
    "tmp_df = tmp_df[(tmp_df.start_code.notnull() & tmp_df.end_code.notnull())]\n",
    "print 'No. records after dropping rows not corresponding to PhD states: '+str(len(tmp_df.index))\n",
    "df = tmp_df[['start_code', 'end_code', 'succession', 'aspect', 'pine', 'oak', 'deciduous', 'water', 'delta_T']]"
   ]
  },
  {
   "cell_type": "code",
   "execution_count": 16,
   "metadata": {
    "collapsed": false
   },
   "outputs": [
    {
     "name": "stdout",
     "output_type": "stream",
     "text": [
      "      start_code     end_code\n",
      "0           Pine         Pine\n",
      "14          Pine  TransForest\n",
      "26          Pine          Oak\n",
      "79   TransForest         Pine\n",
      "91   TransForest  TransForest\n",
      "99   TransForest          Oak\n",
      "175    Deciduous    Shrubland\n",
      "271          Oak         Pine\n",
      "281          Oak  TransForest\n",
      "284          Oak          Oak\n",
      "367    Shrubland         Pine\n",
      "385    Shrubland    Shrubland\n",
      "403    Shrubland          Oak\n",
      "419    Shrubland  TransForest\n",
      "511       Barley    Shrubland\n",
      "512        Wheat    Shrubland\n",
      "513          DAL    Shrubland\n",
      "751        Burnt    Shrubland\n"
     ]
    }
   ],
   "source": [
    "print df[['start_code', 'end_code']].drop_duplicates()"
   ]
  },
  {
   "cell_type": "markdown",
   "metadata": {},
   "source": [
    "NOTE: there's a potential issue here because no state appears to transition TO Deciduous. Presumably I've dropped something important here. Something to check up on."
   ]
  },
  {
   "cell_type": "code",
   "execution_count": 17,
   "metadata": {
    "collapsed": false
   },
   "outputs": [
    {
     "name": "stdout",
     "output_type": "stream",
     "text": [
      "[0 1]\n"
     ]
    }
   ],
   "source": [
    "print df.aspect.unique()"
   ]
  },
  {
   "cell_type": "markdown",
   "metadata": {},
   "source": [
    "## Build cypher query files\n",
    "The next step is to convert the data in the above table into cypher files which can be loaded into the database. Each of these files will have the same basic structure:\n",
    "1. Header (file description comments, priority)\n",
    "2. Query creating succession trajectory\n",
    "3. Sequence of several queries establishing all combinations of environmental conditions which CAUSE that succession trajectory to take place. \n",
    "\n",
    "I wil now develop functions which will create each of these components."
   ]
  },
  {
   "cell_type": "code",
   "execution_count": 18,
   "metadata": {
    "collapsed": false
   },
   "outputs": [
    {
     "data": {
      "text/plain": [
       "'2018-05-01'"
      ]
     },
     "execution_count": 18,
     "metadata": {},
     "output_type": "execute_result"
    }
   ],
   "source": [
    "import datetime\n",
    "str(datetime.date.today())"
   ]
  },
  {
   "cell_type": "code",
   "execution_count": 19,
   "metadata": {
    "collapsed": false
   },
   "outputs": [],
   "source": [
    "from make_cypher import get_env_cond_query"
   ]
  },
  {
   "cell_type": "code",
   "execution_count": 21,
   "metadata": {
    "collapsed": false
   },
   "outputs": [
    {
     "data": {
      "text/plain": [
       "'\\n    MERGE \\n      (ec:EnvironCondition {succession:\"secondary\", \\n                             aspect:\"north\", \\n                             pine:{2},\\n                             oak:{3},\\n                             deciduous:{4},\\n                             water:\"hydric\",\\n                             delta_t:\"0\"})\\n    MATCH \\n      (:LandCoverType {code:\"Pine\", model_ID:$model_ID})\\n      <-[:SOURCE]-(traj:SuccessionTrajectory {model_ID:$model_ID})-[:TARGET]->\\n      (:LandCoverType {code:\"Pine\", model_ID:$model_ID}) \\n    MERGE \\n      (ec)-[:CAUSES]->(traj);\\n    '"
      ]
     },
     "execution_count": 21,
     "metadata": {},
     "output_type": "execute_result"
    }
   ],
   "source": [
    "get_env_cond_query(df.iloc[10])"
   ]
  },
  {
   "cell_type": "code",
   "execution_count": 23,
   "metadata": {
    "collapsed": false
   },
   "outputs": [],
   "source": [
    "pd.to_pickle(df, 'traj.pkl')"
   ]
  },
  {
   "cell_type": "code",
   "execution_count": null,
   "metadata": {
    "collapsed": true
   },
   "outputs": [],
   "source": []
  }
 ],
 "metadata": {
  "anaconda-cloud": {},
  "kernelspec": {
   "display_name": "Python [conda root]",
   "language": "python",
   "name": "conda-root-py"
  },
  "language_info": {
   "codemirror_mode": {
    "name": "ipython",
    "version": 2
   },
   "file_extension": ".py",
   "mimetype": "text/x-python",
   "name": "python",
   "nbconvert_exporter": "python",
   "pygments_lexer": "ipython2",
   "version": "2.7.12"
  }
 },
 "nbformat": 4,
 "nbformat_minor": 1
}
